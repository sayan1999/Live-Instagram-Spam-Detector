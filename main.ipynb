{
 "cells": [
  {
   "cell_type": "markdown",
   "id": "f79cbe23-a0d2-4cc4-92c4-25118a0c4ce6",
   "metadata": {},
   "source": [
    "### Imports"
   ]
  },
  {
   "cell_type": "code",
   "execution_count": null,
   "id": "93e1b72b",
   "metadata": {
    "scrolled": true,
    "tags": []
   },
   "outputs": [],
   "source": [
    "! pip install pandas numpy\n",
    "! pip install -U scikit-learn\n",
    "! pip install imblearn\n",
    "! pip install kaggle\n",
    "! pip install streamlit\n",
    "! pip install tqdm\n",
    "! pip install streamlit_jupyter\n",
    "! pip install streamlit-echarts\n",
    "! pip install openpyxl"
   ]
  },
  {
   "cell_type": "code",
   "execution_count": null,
   "id": "14bb1cd3",
   "metadata": {
    "tags": []
   },
   "outputs": [],
   "source": [
    "import pandas as pd\n",
    "import json, glob\n",
    "import numpy as np"
   ]
  },
  {
   "cell_type": "markdown",
   "id": "14c25998",
   "metadata": {},
   "source": [
    "## Instaloader api"
   ]
  },
  {
   "cell_type": "code",
   "execution_count": null,
   "id": "4e5b4e77",
   "metadata": {
    "tags": []
   },
   "outputs": [],
   "source": [
    "from instaloader import Instaloader, Profile, ProfileNotExistsException, LoginRequiredException\n",
    "L=Instaloader()\n",
    "import time\n",
    "from functools import lru_cache \n",
    "  \n",
    "ERROR=''\n",
    "@lru_cache(maxsize = 100) \n",
    "def get_info(username, timeout=0):\n",
    "    global ERROR\n",
    "    try:\n",
    "        time.sleep(timeout)\n",
    "        print(\"Scraping ...\")\n",
    "        profile = Profile.from_username(L.context, username=username)\n",
    "        info = profile._asdict()\n",
    "        return info\n",
    "    except ProfileNotExistsException as e:\n",
    "        print(e)\n",
    "        ERROR=\"Profile doesn't exist\"\n",
    "    except LoginRequiredException as e:\n",
    "        print(e)\n",
    "        ERROR=\"Need to login to use instaloader, timeout from instaloader\"   "
   ]
  },
  {
   "cell_type": "markdown",
   "id": "9c5136c0-f053-42da-aad4-18a3f5dcb722",
   "metadata": {
    "tags": []
   },
   "source": [
    "### Feature enggineering"
   ]
  },
  {
   "cell_type": "code",
   "execution_count": null,
   "id": "9db0428a",
   "metadata": {
    "scrolled": true
   },
   "outputs": [],
   "source": [
    "features =[\n",
    "#     'full_name',\n",
    "#     'username',\n",
    "#      'id',\n",
    "    \n",
    "    'biography', #len\n",
    "#  'blocked_by_viewer',\n",
    "#  'restricted_by_viewer',\n",
    " # 'country_block',\n",
    "#  'external_url',\n",
    "#  'external_url_linkshimmed',\n",
    " 'edge_followed_by', #count inside\n",
    " 'fbid', #is none\n",
    "#  'followed_by_viewer',\n",
    " 'edge_follow',  #count inside\n",
    "#  'follows_viewer',\n",
    " \n",
    " 'has_ar_effects',\n",
    " 'has_clips',\n",
    " 'has_guides',\n",
    " 'has_channel',\n",
    "    \n",
    " # 'has_blocked_viewer',\n",
    " 'highlight_reel_count',\n",
    " # 'has_requested_viewer',\n",
    " 'is_business_account',\n",
    " # 'is_joined_recently',\n",
    "#  'business_category_name',\n",
    "#  'overall_category_name',\n",
    "#  'category_enum',\n",
    "#  'category_name',\n",
    " 'is_private',\n",
    " 'is_verified',\n",
    "#  'edge_mutual_followed_by',\n",
    " 'profile_pic_url', #if none\n",
    "#  'profile_pic_url_hd',\n",
    "#  'requested_by_viewer',\n",
    "#  'should_show_category',\n",
    " # 'connected_fb_page', #if None or not\n",
    "#  'edge_felix_video_timeline',\n",
    "#  'edge_owner_to_timeline_media',\n",
    "#  'edge_saved_media',\n",
    "#  'edge_media_collections'\n",
    "]\n",
    "\n",
    "def process_entries(ent):\n",
    "    ent=ent.copy()\n",
    "    ent['biography']=len(ent['biography'])\n",
    "    ent['fbid']=bool(ent['fbid'])\n",
    "    ent['profile_pic_url']=bool(ent['profile_pic_url'])\n",
    "    \n",
    "    ent['edge_followed_by']=ent['edge_followed_by']['count']\n",
    "    ent['edge_follow']=ent['edge_follow']['count']\n",
    "    \n",
    "#     ent.pop('full_name'), ent.pop('id'), ent.pop('username')\n",
    "    return ent\n"
   ]
  },
  {
   "cell_type": "markdown",
   "id": "de5aa11f",
   "metadata": {},
   "source": [
    "## Collect spam users data\n",
    "https://www.kaggle.com/datasets/rezaunderfit/instagram-fake-accounts-dataset"
   ]
  },
  {
   "cell_type": "code",
   "execution_count": null,
   "id": "bb82dac7-05c0-4e6e-934b-4be55a770737",
   "metadata": {
    "scrolled": true,
    "tags": []
   },
   "outputs": [],
   "source": [
    "! mkdir -p dataset/fake/\n",
    "! kaggle datasets download -d  rezaunderfit/instagram-fake-accounts-dataset --force --unzip -p dataset/fake/\n",
    "\n",
    "fakedata=[json.load(open(f))['graphql']['user'] for f in glob.glob('dataset/fake/db/*.json')]"
   ]
  },
  {
   "cell_type": "markdown",
   "id": "378c3983-43f1-46e8-8be5-b914c09154f7",
   "metadata": {},
   "source": [
    "### Collect real users and scrape them\n",
    "https://raw.githubusercontent.com/harshitkgupta/Fake-Profile-Detection-using-ML/master/data/users.csv"
   ]
  },
  {
   "cell_type": "code",
   "execution_count": null,
   "id": "0c8af1b5-7839-4e7b-ab7c-0bb74db58e70",
   "metadata": {
    "tags": []
   },
   "outputs": [],
   "source": [
    "! mkdir -p dataset/real/ \n",
    "! wget -nc https://raw.githubusercontent.com/harshitkgupta/Fake-Profile-Detection-using-ML/master/data/users.csv -P dataset/real/  "
   ]
  },
  {
   "cell_type": "code",
   "execution_count": null,
   "id": "314574c9-0db5-426c-8db1-99e4006b61ec",
   "metadata": {
    "tags": []
   },
   "outputs": [],
   "source": [
    "import os\n",
    "from tqdm import tqdm\n",
    "\n",
    "realjson='dataset/real/real.json'\n",
    "realcsv='dataset/real/users.csv'\n",
    "\n",
    "if os.path.isfile(realjson):\n",
    "    realdata = json.load(open(realjson))\n",
    "else:\n",
    "    realdata = []\n",
    "    print('One time setup to be done, this may take a while...')\n",
    "    \n",
    "savedusers = [row['username'] for row in realdata]\n",
    "    \n",
    "\n",
    "MINDATA=50\n",
    "MAXSCRAPE=0 # change this variable to get more data by scraping real users)\n",
    "n_scrape = max(MAXSCRAPE, MINDATA-len(savedusers))\n",
    "realdf = pd.read_csv(realcsv)\n",
    "\n",
    "i=0\n",
    "for realuser in tqdm(realdf[\"screen_name\"].sample(frac=1).reset_index(drop=True)):\n",
    "    if i >= n_scrape:\n",
    "        break\n",
    "    print(realuser)\n",
    "    if realuser not in savedusers:\n",
    "        ret=get_info(realuser)\n",
    "        if ret:\n",
    "            realdata.append(ret)\n",
    "            json.dump(realdata, open(realjson, 'w+'))\n",
    "            print(f'[{i}]: Scraped and saved')\n",
    "            i+=1\n",
    "        else:\n",
    "            realdf=realdf[realdf[\"screen_name\"] != realuser]\n",
    "            realdf.to_csv(realcsv, index=False)\n",
    "        \n",
    "# json.dump(realdata, open(realjson, 'w+'))"
   ]
  },
  {
   "cell_type": "code",
   "execution_count": null,
   "id": "48b63f55",
   "metadata": {},
   "outputs": [],
   "source": [
    "\n"
   ]
  },
  {
   "cell_type": "code",
   "execution_count": null,
   "id": "bf10ad01",
   "metadata": {},
   "outputs": [],
   "source": [
    "fakedf = pd.DataFrame(map(process_entries, fakedata), columns=features)\n",
    "fakedf['fake']=1\n",
    "realdf = pd.DataFrame(map(process_entries, realdata), columns=features)\n",
    "realdf['fake']=0\n",
    "df = pd.concat([fakedf, realdf])\n",
    "df=df.sample(frac=1).reset_index(drop=True)\n",
    "df.head()"
   ]
  },
  {
   "cell_type": "code",
   "execution_count": null,
   "id": "03bb8762",
   "metadata": {},
   "outputs": [],
   "source": []
  },
  {
   "cell_type": "code",
   "execution_count": null,
   "id": "18cde92c-b30b-41bd-ad49-b8571ef202af",
   "metadata": {},
   "outputs": [],
   "source": []
  },
  {
   "cell_type": "code",
   "execution_count": null,
   "id": "befa8db9-6e11-49c2-a9d1-cf97ee2c8f0d",
   "metadata": {},
   "outputs": [],
   "source": []
  },
  {
   "cell_type": "code",
   "execution_count": null,
   "id": "da2694ac-b1b5-4a48-a179-b3332c39d5e6",
   "metadata": {},
   "outputs": [],
   "source": []
  },
  {
   "cell_type": "markdown",
   "id": "2945f8e6",
   "metadata": {},
   "source": [
    "## Oversampling imbalanced data"
   ]
  },
  {
   "cell_type": "code",
   "execution_count": null,
   "id": "09d70782",
   "metadata": {},
   "outputs": [],
   "source": [
    "from imblearn.over_sampling import SMOTE\n",
    "X, y = SMOTE().fit_resample(df.drop(columns=['fake']), df['fake'])"
   ]
  },
  {
   "cell_type": "code",
   "execution_count": null,
   "id": "47682008",
   "metadata": {},
   "outputs": [],
   "source": []
  },
  {
   "cell_type": "code",
   "execution_count": null,
   "id": "7431ae49",
   "metadata": {},
   "outputs": [],
   "source": []
  },
  {
   "cell_type": "markdown",
   "id": "29d93eea",
   "metadata": {},
   "source": [
    "## Model"
   ]
  },
  {
   "cell_type": "code",
   "execution_count": null,
   "id": "cadcb618",
   "metadata": {},
   "outputs": [],
   "source": [
    "from sklearn.ensemble import RandomForestClassifier\n",
    "from sklearn.model_selection import cross_validate, cross_val_score\n",
    "scoring = {'acc': 'accuracy',\n",
    "           'prec_macro': 'precision_macro',\n",
    "           'rec_micro': 'recall_macro'}\n",
    "\n",
    "cross_validate(RandomForestClassifier(), X, y, cv=5, scoring=scoring)"
   ]
  },
  {
   "cell_type": "code",
   "execution_count": null,
   "id": "bd023018",
   "metadata": {},
   "outputs": [],
   "source": []
  },
  {
   "cell_type": "code",
   "execution_count": null,
   "id": "6ae38149",
   "metadata": {},
   "outputs": [],
   "source": []
  },
  {
   "cell_type": "code",
   "execution_count": null,
   "id": "4b1621bd",
   "metadata": {},
   "outputs": [],
   "source": [
    "import pickle\n",
    "\n",
    "model=RandomForestClassifier()\n",
    "model.fit(X, y)\n",
    "pickle.dump(model, open('model', 'wb+'))"
   ]
  },
  {
   "cell_type": "markdown",
   "id": "6e6df974",
   "metadata": {},
   "source": [
    "## Test on realdata"
   ]
  },
  {
   "cell_type": "code",
   "execution_count": null,
   "id": "052eb7c4",
   "metadata": {},
   "outputs": [],
   "source": [
    "def predict(username):\n",
    "    np.random.seed(1111)\n",
    "    info = get_info(username)\n",
    "    if info is None:\n",
    "        return 404\n",
    "    return model.predict_proba(pd.DataFrame([process_entries(info)], columns=features))[0][1]"
   ]
  },
  {
   "cell_type": "code",
   "execution_count": null,
   "id": "aa4cde07",
   "metadata": {},
   "outputs": [],
   "source": [
    "A=dict(zip(*(model.feature_names_in_, model.feature_importances_)))\n",
    "{k:A[k] for k in sorted(A, key=A.get, reverse=True)}"
   ]
  },
  {
   "cell_type": "markdown",
   "id": "3a431b9f-45d8-4a06-b196-7fca88c75365",
   "metadata": {},
   "source": [
    "### Run the webapp"
   ]
  },
  {
   "cell_type": "code",
   "execution_count": null,
   "id": "93b3cbfe-796d-439d-b96c-e2ff40bae727",
   "metadata": {},
   "outputs": [],
   "source": [
    "! source env/bin/activate && streamlit run infer.py"
   ]
  },
  {
   "cell_type": "code",
   "execution_count": null,
   "id": "a3059de0-c36f-42f9-b805-abea306f4ac9",
   "metadata": {},
   "outputs": [],
   "source": []
  }
 ],
 "metadata": {
  "kernelspec": {
   "display_name": "fakesocial",
   "language": "python",
   "name": "fakesocial"
  },
  "language_info": {
   "codemirror_mode": {
    "name": "ipython",
    "version": 3
   },
   "file_extension": ".py",
   "mimetype": "text/x-python",
   "name": "python",
   "nbconvert_exporter": "python",
   "pygments_lexer": "ipython3",
   "version": "3.10.12"
  }
 },
 "nbformat": 4,
 "nbformat_minor": 5
}
