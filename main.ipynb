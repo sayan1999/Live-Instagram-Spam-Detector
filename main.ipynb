{
 "cells": [
  {
   "cell_type": "markdown",
   "id": "f79cbe23-a0d2-4cc4-92c4-25118a0c4ce6",
   "metadata": {},
   "source": [
    "### Imports"
   ]
  },
  {
   "cell_type": "code",
   "execution_count": 1,
   "id": "93e1b72b",
   "metadata": {
    "scrolled": true,
    "tags": []
   },
   "outputs": [
    {
     "name": "stdout",
     "output_type": "stream",
     "text": [
      "Defaulting to user installation because normal site-packages is not writeable\n",
      "Requirement already satisfied: pandas in /home/instantinopaul/.local/lib/python3.10/site-packages (2.0.1)\n",
      "Requirement already satisfied: python-dateutil>=2.8.2 in /home/instantinopaul/.local/lib/python3.10/site-packages (from pandas) (2.8.2)\n",
      "Requirement already satisfied: pytz>=2020.1 in /usr/lib/python3/dist-packages (from pandas) (2022.1)\n",
      "Requirement already satisfied: tzdata>=2022.1 in /home/instantinopaul/.local/lib/python3.10/site-packages (from pandas) (2023.3)\n",
      "Requirement already satisfied: numpy>=1.21.0 in /usr/lib/python3/dist-packages (from pandas) (1.21.5)\n",
      "Requirement already satisfied: six>=1.5 in /home/instantinopaul/.local/lib/python3.10/site-packages (from python-dateutil>=2.8.2->pandas) (1.16.0)\n",
      "Defaulting to user installation because normal site-packages is not writeable\n",
      "Requirement already satisfied: scikit-learn in /home/instantinopaul/.local/lib/python3.10/site-packages (1.3.0)\n",
      "Requirement already satisfied: numpy>=1.17.3 in /usr/lib/python3/dist-packages (from scikit-learn) (1.21.5)\n",
      "Requirement already satisfied: scipy>=1.5.0 in /home/instantinopaul/.local/lib/python3.10/site-packages (from scikit-learn) (1.10.1)\n",
      "Requirement already satisfied: joblib>=1.1.1 in /home/instantinopaul/.local/lib/python3.10/site-packages (from scikit-learn) (1.3.2)\n",
      "Requirement already satisfied: threadpoolctl>=2.0.0 in /home/instantinopaul/.local/lib/python3.10/site-packages (from scikit-learn) (3.2.0)\n",
      "Defaulting to user installation because normal site-packages is not writeable\n",
      "Requirement already satisfied: imblearn in /home/instantinopaul/.local/lib/python3.10/site-packages (0.0)\n",
      "Requirement already satisfied: imbalanced-learn in /home/instantinopaul/.local/lib/python3.10/site-packages (from imblearn) (0.11.0)\n",
      "Requirement already satisfied: numpy>=1.17.3 in /usr/lib/python3/dist-packages (from imbalanced-learn->imblearn) (1.21.5)\n",
      "Requirement already satisfied: scipy>=1.5.0 in /home/instantinopaul/.local/lib/python3.10/site-packages (from imbalanced-learn->imblearn) (1.10.1)\n",
      "Requirement already satisfied: scikit-learn>=1.0.2 in /home/instantinopaul/.local/lib/python3.10/site-packages (from imbalanced-learn->imblearn) (1.3.0)\n",
      "Requirement already satisfied: joblib>=1.1.1 in /home/instantinopaul/.local/lib/python3.10/site-packages (from imbalanced-learn->imblearn) (1.3.2)\n",
      "Requirement already satisfied: threadpoolctl>=2.0.0 in /home/instantinopaul/.local/lib/python3.10/site-packages (from imbalanced-learn->imblearn) (3.2.0)\n",
      "Defaulting to user installation because normal site-packages is not writeable\n",
      "Requirement already satisfied: kaggle in /home/instantinopaul/.local/lib/python3.10/site-packages (1.5.15)\n",
      "Requirement already satisfied: bleach in /home/instantinopaul/.local/lib/python3.10/site-packages (from kaggle) (6.0.0)\n",
      "Requirement already satisfied: certifi in /home/instantinopaul/.local/lib/python3.10/site-packages (from kaggle) (2023.7.22)\n",
      "Requirement already satisfied: python-dateutil in /home/instantinopaul/.local/lib/python3.10/site-packages (from kaggle) (2.8.2)\n",
      "Requirement already satisfied: python-slugify in /home/instantinopaul/.local/lib/python3.10/site-packages (from kaggle) (8.0.1)\n",
      "Requirement already satisfied: requests in /home/instantinopaul/.local/lib/python3.10/site-packages (from kaggle) (2.31.0)\n",
      "Requirement already satisfied: six>=1.10 in /home/instantinopaul/.local/lib/python3.10/site-packages (from kaggle) (1.16.0)\n",
      "Requirement already satisfied: tqdm in /home/instantinopaul/.local/lib/python3.10/site-packages (from kaggle) (4.66.1)\n",
      "Requirement already satisfied: urllib3 in /home/instantinopaul/.local/lib/python3.10/site-packages (from kaggle) (2.0.4)\n",
      "Requirement already satisfied: webencodings in /home/instantinopaul/.local/lib/python3.10/site-packages (from bleach->kaggle) (0.5.1)\n",
      "Requirement already satisfied: text-unidecode>=1.3 in /home/instantinopaul/.local/lib/python3.10/site-packages (from python-slugify->kaggle) (1.3)\n",
      "Requirement already satisfied: charset-normalizer<4,>=2 in /home/instantinopaul/.local/lib/python3.10/site-packages (from requests->kaggle) (3.2.0)\n",
      "Requirement already satisfied: idna<4,>=2.5 in /home/instantinopaul/.local/lib/python3.10/site-packages (from requests->kaggle) (3.4)\n",
      "Defaulting to user installation because normal site-packages is not writeable\n",
      "Requirement already satisfied: streamlit in /home/instantinopaul/.local/lib/python3.10/site-packages (1.25.0)\n",
      "Requirement already satisfied: altair<6,>=4.0 in /home/instantinopaul/.local/lib/python3.10/site-packages (from streamlit) (5.0.1)\n",
      "Requirement already satisfied: blinker<2,>=1.0.0 in /usr/lib/python3/dist-packages (from streamlit) (1.4)\n",
      "Requirement already satisfied: cachetools<6,>=4.0 in /home/instantinopaul/.local/lib/python3.10/site-packages (from streamlit) (5.3.1)\n",
      "Requirement already satisfied: click<9,>=7.0 in /usr/lib/python3/dist-packages (from streamlit) (8.0.3)\n",
      "Requirement already satisfied: importlib-metadata<7,>=1.4 in /home/instantinopaul/.local/lib/python3.10/site-packages (from streamlit) (6.8.0)\n",
      "Requirement already satisfied: numpy<2,>=1.19.3 in /usr/lib/python3/dist-packages (from streamlit) (1.21.5)\n",
      "Requirement already satisfied: packaging<24,>=16.8 in /home/instantinopaul/.local/lib/python3.10/site-packages (from streamlit) (23.1)\n",
      "Requirement already satisfied: pandas<3,>=1.3.0 in /home/instantinopaul/.local/lib/python3.10/site-packages (from streamlit) (2.0.1)\n",
      "Requirement already satisfied: pillow<10,>=7.1.0 in /usr/lib/python3/dist-packages (from streamlit) (9.0.1)\n",
      "Requirement already satisfied: protobuf<5,>=3.20 in /home/instantinopaul/.local/lib/python3.10/site-packages (from streamlit) (4.24.1)\n",
      "Requirement already satisfied: pyarrow>=6.0 in /home/instantinopaul/.local/lib/python3.10/site-packages (from streamlit) (13.0.0)\n",
      "Requirement already satisfied: pympler<2,>=0.9 in /home/instantinopaul/.local/lib/python3.10/site-packages (from streamlit) (1.0.1)\n",
      "Requirement already satisfied: python-dateutil<3,>=2.7.3 in /home/instantinopaul/.local/lib/python3.10/site-packages (from streamlit) (2.8.2)\n",
      "Requirement already satisfied: requests<3,>=2.18 in /home/instantinopaul/.local/lib/python3.10/site-packages (from streamlit) (2.31.0)\n",
      "Requirement already satisfied: rich<14,>=10.14.0 in /home/instantinopaul/.local/lib/python3.10/site-packages (from streamlit) (13.3.5)\n",
      "Requirement already satisfied: tenacity<9,>=8.1.0 in /home/instantinopaul/.local/lib/python3.10/site-packages (from streamlit) (8.2.3)\n",
      "Requirement already satisfied: toml<2,>=0.10.1 in /home/instantinopaul/.local/lib/python3.10/site-packages (from streamlit) (0.10.2)\n",
      "Requirement already satisfied: typing-extensions<5,>=4.1.0 in /home/instantinopaul/.local/lib/python3.10/site-packages (from streamlit) (4.5.0)\n",
      "Requirement already satisfied: tzlocal<5,>=1.1 in /home/instantinopaul/.local/lib/python3.10/site-packages (from streamlit) (4.3.1)\n",
      "Requirement already satisfied: validators<1,>=0.2 in /home/instantinopaul/.local/lib/python3.10/site-packages (from streamlit) (0.21.2)\n",
      "Requirement already satisfied: gitpython!=3.1.19,<4,>=3.0.7 in /home/instantinopaul/.local/lib/python3.10/site-packages (from streamlit) (3.1.31)\n",
      "Requirement already satisfied: pydeck<1,>=0.8 in /home/instantinopaul/.local/lib/python3.10/site-packages (from streamlit) (0.8.0)\n",
      "Requirement already satisfied: tornado<7,>=6.0.3 in /home/instantinopaul/.local/lib/python3.10/site-packages (from streamlit) (6.3.3)\n",
      "Requirement already satisfied: watchdog>=2.1.5 in /home/instantinopaul/.local/lib/python3.10/site-packages (from streamlit) (3.0.0)\n",
      "Requirement already satisfied: jinja2 in /home/instantinopaul/.local/lib/python3.10/site-packages (from altair<6,>=4.0->streamlit) (3.1.2)\n",
      "Requirement already satisfied: jsonschema>=3.0 in /home/instantinopaul/.local/lib/python3.10/site-packages (from altair<6,>=4.0->streamlit) (4.19.0)\n",
      "Requirement already satisfied: toolz in /home/instantinopaul/.local/lib/python3.10/site-packages (from altair<6,>=4.0->streamlit) (0.12.0)\n",
      "Requirement already satisfied: gitdb<5,>=4.0.1 in /home/instantinopaul/.local/lib/python3.10/site-packages (from gitpython!=3.1.19,<4,>=3.0.7->streamlit) (4.0.10)\n",
      "Requirement already satisfied: zipp>=0.5 in /usr/lib/python3/dist-packages (from importlib-metadata<7,>=1.4->streamlit) (1.0.0)\n",
      "Requirement already satisfied: pytz>=2020.1 in /usr/lib/python3/dist-packages (from pandas<3,>=1.3.0->streamlit) (2022.1)\n",
      "Requirement already satisfied: tzdata>=2022.1 in /home/instantinopaul/.local/lib/python3.10/site-packages (from pandas<3,>=1.3.0->streamlit) (2023.3)\n",
      "Requirement already satisfied: six>=1.5 in /home/instantinopaul/.local/lib/python3.10/site-packages (from python-dateutil<3,>=2.7.3->streamlit) (1.16.0)\n",
      "Requirement already satisfied: charset-normalizer<4,>=2 in /home/instantinopaul/.local/lib/python3.10/site-packages (from requests<3,>=2.18->streamlit) (3.2.0)\n",
      "Requirement already satisfied: idna<4,>=2.5 in /home/instantinopaul/.local/lib/python3.10/site-packages (from requests<3,>=2.18->streamlit) (3.4)\n",
      "Requirement already satisfied: urllib3<3,>=1.21.1 in /home/instantinopaul/.local/lib/python3.10/site-packages (from requests<3,>=2.18->streamlit) (2.0.4)\n",
      "Requirement already satisfied: certifi>=2017.4.17 in /home/instantinopaul/.local/lib/python3.10/site-packages (from requests<3,>=2.18->streamlit) (2023.7.22)\n",
      "Requirement already satisfied: markdown-it-py<3.0.0,>=2.2.0 in /home/instantinopaul/.local/lib/python3.10/site-packages (from rich<14,>=10.14.0->streamlit) (2.2.0)\n",
      "Requirement already satisfied: pygments<3.0.0,>=2.13.0 in /home/instantinopaul/.local/lib/python3.10/site-packages (from rich<14,>=10.14.0->streamlit) (2.16.1)\n",
      "Requirement already satisfied: pytz-deprecation-shim in /home/instantinopaul/.local/lib/python3.10/site-packages (from tzlocal<5,>=1.1->streamlit) (0.1.0.post0)\n",
      "Requirement already satisfied: smmap<6,>=3.0.1 in /home/instantinopaul/.local/lib/python3.10/site-packages (from gitdb<5,>=4.0.1->gitpython!=3.1.19,<4,>=3.0.7->streamlit) (5.0.0)\n",
      "Requirement already satisfied: MarkupSafe>=2.0 in /home/instantinopaul/.local/lib/python3.10/site-packages (from jinja2->altair<6,>=4.0->streamlit) (2.1.3)\n",
      "Requirement already satisfied: attrs>=22.2.0 in /home/instantinopaul/.local/lib/python3.10/site-packages (from jsonschema>=3.0->altair<6,>=4.0->streamlit) (23.1.0)\n",
      "Requirement already satisfied: jsonschema-specifications>=2023.03.6 in /home/instantinopaul/.local/lib/python3.10/site-packages (from jsonschema>=3.0->altair<6,>=4.0->streamlit) (2023.7.1)\n",
      "Requirement already satisfied: referencing>=0.28.4 in /home/instantinopaul/.local/lib/python3.10/site-packages (from jsonschema>=3.0->altair<6,>=4.0->streamlit) (0.30.2)\n",
      "Requirement already satisfied: rpds-py>=0.7.1 in /home/instantinopaul/.local/lib/python3.10/site-packages (from jsonschema>=3.0->altair<6,>=4.0->streamlit) (0.9.2)\n",
      "Requirement already satisfied: mdurl~=0.1 in /home/instantinopaul/.local/lib/python3.10/site-packages (from markdown-it-py<3.0.0,>=2.2.0->rich<14,>=10.14.0->streamlit) (0.1.2)\n",
      "Defaulting to user installation because normal site-packages is not writeable\n",
      "Requirement already satisfied: tqdm in /home/instantinopaul/.local/lib/python3.10/site-packages (4.66.1)\n",
      "Defaulting to user installation because normal site-packages is not writeable\n",
      "Requirement already satisfied: streamlit_jupyter in /home/instantinopaul/.local/lib/python3.10/site-packages (0.2.1)\n",
      "Requirement already satisfied: fastcore in /home/instantinopaul/.local/lib/python3.10/site-packages (from streamlit_jupyter) (1.5.29)\n",
      "Requirement already satisfied: ipywidgets==7.7.2 in /home/instantinopaul/.local/lib/python3.10/site-packages (from streamlit_jupyter) (7.7.2)\n",
      "Requirement already satisfied: jupyter in /home/instantinopaul/.local/lib/python3.10/site-packages (from streamlit_jupyter) (1.0.0)\n",
      "Requirement already satisfied: stqdm in /home/instantinopaul/.local/lib/python3.10/site-packages (from streamlit_jupyter) (0.0.5)\n",
      "Requirement already satisfied: streamlit>=1.19 in /home/instantinopaul/.local/lib/python3.10/site-packages (from streamlit_jupyter) (1.25.0)\n",
      "Requirement already satisfied: tabulate in /home/instantinopaul/.local/lib/python3.10/site-packages (from streamlit_jupyter) (0.9.0)\n",
      "Requirement already satisfied: tqdm in /home/instantinopaul/.local/lib/python3.10/site-packages (from streamlit_jupyter) (4.66.1)\n",
      "Requirement already satisfied: ipykernel>=4.5.1 in /home/instantinopaul/.local/lib/python3.10/site-packages (from ipywidgets==7.7.2->streamlit_jupyter) (6.25.1)\n",
      "Requirement already satisfied: ipython-genutils~=0.2.0 in /home/instantinopaul/.local/lib/python3.10/site-packages (from ipywidgets==7.7.2->streamlit_jupyter) (0.2.0)\n",
      "Requirement already satisfied: traitlets>=4.3.1 in /home/instantinopaul/.local/lib/python3.10/site-packages (from ipywidgets==7.7.2->streamlit_jupyter) (5.9.0)\n",
      "Requirement already satisfied: widgetsnbextension~=3.6.0 in /home/instantinopaul/.local/lib/python3.10/site-packages (from ipywidgets==7.7.2->streamlit_jupyter) (3.6.5)\n",
      "Requirement already satisfied: ipython>=4.0.0 in /home/instantinopaul/.local/lib/python3.10/site-packages (from ipywidgets==7.7.2->streamlit_jupyter) (8.14.0)\n",
      "Requirement already satisfied: jupyterlab-widgets<3,>=1.0.0 in /home/instantinopaul/.local/lib/python3.10/site-packages (from ipywidgets==7.7.2->streamlit_jupyter) (1.1.5)\n",
      "Requirement already satisfied: altair<6,>=4.0 in /home/instantinopaul/.local/lib/python3.10/site-packages (from streamlit>=1.19->streamlit_jupyter) (5.0.1)\n",
      "Requirement already satisfied: blinker<2,>=1.0.0 in /usr/lib/python3/dist-packages (from streamlit>=1.19->streamlit_jupyter) (1.4)\n",
      "Requirement already satisfied: cachetools<6,>=4.0 in /home/instantinopaul/.local/lib/python3.10/site-packages (from streamlit>=1.19->streamlit_jupyter) (5.3.1)\n",
      "Requirement already satisfied: click<9,>=7.0 in /usr/lib/python3/dist-packages (from streamlit>=1.19->streamlit_jupyter) (8.0.3)\n",
      "Requirement already satisfied: importlib-metadata<7,>=1.4 in /home/instantinopaul/.local/lib/python3.10/site-packages (from streamlit>=1.19->streamlit_jupyter) (6.8.0)\n",
      "Requirement already satisfied: numpy<2,>=1.19.3 in /usr/lib/python3/dist-packages (from streamlit>=1.19->streamlit_jupyter) (1.21.5)\n",
      "Requirement already satisfied: packaging<24,>=16.8 in /home/instantinopaul/.local/lib/python3.10/site-packages (from streamlit>=1.19->streamlit_jupyter) (23.1)\n",
      "Requirement already satisfied: pandas<3,>=1.3.0 in /home/instantinopaul/.local/lib/python3.10/site-packages (from streamlit>=1.19->streamlit_jupyter) (2.0.1)\n",
      "Requirement already satisfied: pillow<10,>=7.1.0 in /usr/lib/python3/dist-packages (from streamlit>=1.19->streamlit_jupyter) (9.0.1)\n",
      "Requirement already satisfied: protobuf<5,>=3.20 in /home/instantinopaul/.local/lib/python3.10/site-packages (from streamlit>=1.19->streamlit_jupyter) (4.24.1)\n",
      "Requirement already satisfied: pyarrow>=6.0 in /home/instantinopaul/.local/lib/python3.10/site-packages (from streamlit>=1.19->streamlit_jupyter) (13.0.0)\n",
      "Requirement already satisfied: pympler<2,>=0.9 in /home/instantinopaul/.local/lib/python3.10/site-packages (from streamlit>=1.19->streamlit_jupyter) (1.0.1)\n",
      "Requirement already satisfied: python-dateutil<3,>=2.7.3 in /home/instantinopaul/.local/lib/python3.10/site-packages (from streamlit>=1.19->streamlit_jupyter) (2.8.2)\n",
      "Requirement already satisfied: requests<3,>=2.18 in /home/instantinopaul/.local/lib/python3.10/site-packages (from streamlit>=1.19->streamlit_jupyter) (2.31.0)\n",
      "Requirement already satisfied: rich<14,>=10.14.0 in /home/instantinopaul/.local/lib/python3.10/site-packages (from streamlit>=1.19->streamlit_jupyter) (13.3.5)\n",
      "Requirement already satisfied: tenacity<9,>=8.1.0 in /home/instantinopaul/.local/lib/python3.10/site-packages (from streamlit>=1.19->streamlit_jupyter) (8.2.3)\n",
      "Requirement already satisfied: toml<2,>=0.10.1 in /home/instantinopaul/.local/lib/python3.10/site-packages (from streamlit>=1.19->streamlit_jupyter) (0.10.2)\n",
      "Requirement already satisfied: typing-extensions<5,>=4.1.0 in /home/instantinopaul/.local/lib/python3.10/site-packages (from streamlit>=1.19->streamlit_jupyter) (4.5.0)\n",
      "Requirement already satisfied: tzlocal<5,>=1.1 in /home/instantinopaul/.local/lib/python3.10/site-packages (from streamlit>=1.19->streamlit_jupyter) (4.3.1)\n",
      "Requirement already satisfied: validators<1,>=0.2 in /home/instantinopaul/.local/lib/python3.10/site-packages (from streamlit>=1.19->streamlit_jupyter) (0.21.2)\n",
      "Requirement already satisfied: gitpython!=3.1.19,<4,>=3.0.7 in /home/instantinopaul/.local/lib/python3.10/site-packages (from streamlit>=1.19->streamlit_jupyter) (3.1.31)\n",
      "Requirement already satisfied: pydeck<1,>=0.8 in /home/instantinopaul/.local/lib/python3.10/site-packages (from streamlit>=1.19->streamlit_jupyter) (0.8.0)\n",
      "Requirement already satisfied: tornado<7,>=6.0.3 in /home/instantinopaul/.local/lib/python3.10/site-packages (from streamlit>=1.19->streamlit_jupyter) (6.3.3)\n",
      "Requirement already satisfied: watchdog>=2.1.5 in /home/instantinopaul/.local/lib/python3.10/site-packages (from streamlit>=1.19->streamlit_jupyter) (3.0.0)\n",
      "Requirement already satisfied: pip in /home/instantinopaul/.local/lib/python3.10/site-packages (from fastcore->streamlit_jupyter) (23.2.1)\n",
      "Requirement already satisfied: notebook in /home/instantinopaul/.local/lib/python3.10/site-packages (from jupyter->streamlit_jupyter) (6.5.5)\n",
      "Requirement already satisfied: qtconsole in /home/instantinopaul/.local/lib/python3.10/site-packages (from jupyter->streamlit_jupyter) (5.4.3)\n",
      "Requirement already satisfied: jupyter-console in /home/instantinopaul/.local/lib/python3.10/site-packages (from jupyter->streamlit_jupyter) (6.6.3)\n",
      "Requirement already satisfied: nbconvert in /home/instantinopaul/.local/lib/python3.10/site-packages (from jupyter->streamlit_jupyter) (7.7.4)\n",
      "Requirement already satisfied: jinja2 in /home/instantinopaul/.local/lib/python3.10/site-packages (from altair<6,>=4.0->streamlit>=1.19->streamlit_jupyter) (3.1.2)\n",
      "Requirement already satisfied: jsonschema>=3.0 in /home/instantinopaul/.local/lib/python3.10/site-packages (from altair<6,>=4.0->streamlit>=1.19->streamlit_jupyter) (4.19.0)\n",
      "Requirement already satisfied: toolz in /home/instantinopaul/.local/lib/python3.10/site-packages (from altair<6,>=4.0->streamlit>=1.19->streamlit_jupyter) (0.12.0)\n",
      "Requirement already satisfied: gitdb<5,>=4.0.1 in /home/instantinopaul/.local/lib/python3.10/site-packages (from gitpython!=3.1.19,<4,>=3.0.7->streamlit>=1.19->streamlit_jupyter) (4.0.10)\n",
      "Requirement already satisfied: zipp>=0.5 in /usr/lib/python3/dist-packages (from importlib-metadata<7,>=1.4->streamlit>=1.19->streamlit_jupyter) (1.0.0)\n",
      "Requirement already satisfied: comm>=0.1.1 in /home/instantinopaul/.local/lib/python3.10/site-packages (from ipykernel>=4.5.1->ipywidgets==7.7.2->streamlit_jupyter) (0.1.4)\n",
      "Requirement already satisfied: debugpy>=1.6.5 in /home/instantinopaul/.local/lib/python3.10/site-packages (from ipykernel>=4.5.1->ipywidgets==7.7.2->streamlit_jupyter) (1.6.7.post1)\n",
      "Requirement already satisfied: jupyter-client>=6.1.12 in /home/instantinopaul/.local/lib/python3.10/site-packages (from ipykernel>=4.5.1->ipywidgets==7.7.2->streamlit_jupyter) (7.4.9)\n",
      "Requirement already satisfied: jupyter-core!=5.0.*,>=4.12 in /home/instantinopaul/.local/lib/python3.10/site-packages (from ipykernel>=4.5.1->ipywidgets==7.7.2->streamlit_jupyter) (5.3.1)\n",
      "Requirement already satisfied: matplotlib-inline>=0.1 in /home/instantinopaul/.local/lib/python3.10/site-packages (from ipykernel>=4.5.1->ipywidgets==7.7.2->streamlit_jupyter) (0.1.6)\n",
      "Requirement already satisfied: nest-asyncio in /home/instantinopaul/.local/lib/python3.10/site-packages (from ipykernel>=4.5.1->ipywidgets==7.7.2->streamlit_jupyter) (1.5.7)\n",
      "Requirement already satisfied: psutil in /home/instantinopaul/.local/lib/python3.10/site-packages (from ipykernel>=4.5.1->ipywidgets==7.7.2->streamlit_jupyter) (5.9.5)\n",
      "Requirement already satisfied: pyzmq>=20 in /home/instantinopaul/.local/lib/python3.10/site-packages (from ipykernel>=4.5.1->ipywidgets==7.7.2->streamlit_jupyter) (24.0.1)\n",
      "Requirement already satisfied: backcall in /home/instantinopaul/.local/lib/python3.10/site-packages (from ipython>=4.0.0->ipywidgets==7.7.2->streamlit_jupyter) (0.2.0)\n",
      "Requirement already satisfied: decorator in /home/instantinopaul/.local/lib/python3.10/site-packages (from ipython>=4.0.0->ipywidgets==7.7.2->streamlit_jupyter) (5.1.1)\n",
      "Requirement already satisfied: jedi>=0.16 in /home/instantinopaul/.local/lib/python3.10/site-packages (from ipython>=4.0.0->ipywidgets==7.7.2->streamlit_jupyter) (0.19.0)\n",
      "Requirement already satisfied: pickleshare in /home/instantinopaul/.local/lib/python3.10/site-packages (from ipython>=4.0.0->ipywidgets==7.7.2->streamlit_jupyter) (0.7.5)\n",
      "Requirement already satisfied: prompt-toolkit!=3.0.37,<3.1.0,>=3.0.30 in /home/instantinopaul/.local/lib/python3.10/site-packages (from ipython>=4.0.0->ipywidgets==7.7.2->streamlit_jupyter) (3.0.39)\n",
      "Requirement already satisfied: pygments>=2.4.0 in /home/instantinopaul/.local/lib/python3.10/site-packages (from ipython>=4.0.0->ipywidgets==7.7.2->streamlit_jupyter) (2.16.1)\n",
      "Requirement already satisfied: stack-data in /home/instantinopaul/.local/lib/python3.10/site-packages (from ipython>=4.0.0->ipywidgets==7.7.2->streamlit_jupyter) (0.6.2)\n",
      "Requirement already satisfied: pexpect>4.3 in /home/instantinopaul/.local/lib/python3.10/site-packages (from ipython>=4.0.0->ipywidgets==7.7.2->streamlit_jupyter) (4.8.0)\n",
      "Requirement already satisfied: pytz>=2020.1 in /usr/lib/python3/dist-packages (from pandas<3,>=1.3.0->streamlit>=1.19->streamlit_jupyter) (2022.1)\n",
      "Requirement already satisfied: tzdata>=2022.1 in /home/instantinopaul/.local/lib/python3.10/site-packages (from pandas<3,>=1.3.0->streamlit>=1.19->streamlit_jupyter) (2023.3)\n",
      "Requirement already satisfied: six>=1.5 in /home/instantinopaul/.local/lib/python3.10/site-packages (from python-dateutil<3,>=2.7.3->streamlit>=1.19->streamlit_jupyter) (1.16.0)\n",
      "Requirement already satisfied: charset-normalizer<4,>=2 in /home/instantinopaul/.local/lib/python3.10/site-packages (from requests<3,>=2.18->streamlit>=1.19->streamlit_jupyter) (3.2.0)\n",
      "Requirement already satisfied: idna<4,>=2.5 in /home/instantinopaul/.local/lib/python3.10/site-packages (from requests<3,>=2.18->streamlit>=1.19->streamlit_jupyter) (3.4)\n",
      "Requirement already satisfied: urllib3<3,>=1.21.1 in /home/instantinopaul/.local/lib/python3.10/site-packages (from requests<3,>=2.18->streamlit>=1.19->streamlit_jupyter) (2.0.4)\n",
      "Requirement already satisfied: certifi>=2017.4.17 in /home/instantinopaul/.local/lib/python3.10/site-packages (from requests<3,>=2.18->streamlit>=1.19->streamlit_jupyter) (2023.7.22)\n",
      "Requirement already satisfied: markdown-it-py<3.0.0,>=2.2.0 in /home/instantinopaul/.local/lib/python3.10/site-packages (from rich<14,>=10.14.0->streamlit>=1.19->streamlit_jupyter) (2.2.0)\n",
      "Requirement already satisfied: pytz-deprecation-shim in /home/instantinopaul/.local/lib/python3.10/site-packages (from tzlocal<5,>=1.1->streamlit>=1.19->streamlit_jupyter) (0.1.0.post0)\n",
      "Requirement already satisfied: argon2-cffi in /home/instantinopaul/.local/lib/python3.10/site-packages (from notebook->jupyter->streamlit_jupyter) (23.1.0)\n",
      "Requirement already satisfied: nbformat in /home/instantinopaul/.local/lib/python3.10/site-packages (from notebook->jupyter->streamlit_jupyter) (5.9.2)\n",
      "Requirement already satisfied: Send2Trash>=1.8.0 in /home/instantinopaul/.local/lib/python3.10/site-packages (from notebook->jupyter->streamlit_jupyter) (1.8.2)\n",
      "Requirement already satisfied: terminado>=0.8.3 in /home/instantinopaul/.local/lib/python3.10/site-packages (from notebook->jupyter->streamlit_jupyter) (0.17.1)\n",
      "Requirement already satisfied: prometheus-client in /home/instantinopaul/.local/lib/python3.10/site-packages (from notebook->jupyter->streamlit_jupyter) (0.17.1)\n",
      "Requirement already satisfied: nbclassic>=0.4.7 in /home/instantinopaul/.local/lib/python3.10/site-packages (from notebook->jupyter->streamlit_jupyter) (1.0.0)\n",
      "Requirement already satisfied: beautifulsoup4 in /home/instantinopaul/.local/lib/python3.10/site-packages (from nbconvert->jupyter->streamlit_jupyter) (4.12.2)\n",
      "Requirement already satisfied: bleach!=5.0.0 in /home/instantinopaul/.local/lib/python3.10/site-packages (from nbconvert->jupyter->streamlit_jupyter) (6.0.0)\n",
      "Requirement already satisfied: defusedxml in /home/instantinopaul/.local/lib/python3.10/site-packages (from nbconvert->jupyter->streamlit_jupyter) (0.7.1)\n",
      "Requirement already satisfied: jupyterlab-pygments in /home/instantinopaul/.local/lib/python3.10/site-packages (from nbconvert->jupyter->streamlit_jupyter) (0.2.2)\n",
      "Requirement already satisfied: markupsafe>=2.0 in /home/instantinopaul/.local/lib/python3.10/site-packages (from nbconvert->jupyter->streamlit_jupyter) (2.1.3)\n",
      "Requirement already satisfied: mistune<4,>=2.0.3 in /home/instantinopaul/.local/lib/python3.10/site-packages (from nbconvert->jupyter->streamlit_jupyter) (3.0.1)\n",
      "Requirement already satisfied: nbclient>=0.5.0 in /home/instantinopaul/.local/lib/python3.10/site-packages (from nbconvert->jupyter->streamlit_jupyter) (0.8.0)\n",
      "Requirement already satisfied: pandocfilters>=1.4.1 in /home/instantinopaul/.local/lib/python3.10/site-packages (from nbconvert->jupyter->streamlit_jupyter) (1.5.0)\n",
      "Requirement already satisfied: tinycss2 in /home/instantinopaul/.local/lib/python3.10/site-packages (from nbconvert->jupyter->streamlit_jupyter) (1.2.1)\n",
      "Requirement already satisfied: qtpy>=2.0.1 in /home/instantinopaul/.local/lib/python3.10/site-packages (from qtconsole->jupyter->streamlit_jupyter) (2.3.1)\n",
      "Requirement already satisfied: webencodings in /home/instantinopaul/.local/lib/python3.10/site-packages (from bleach!=5.0.0->nbconvert->jupyter->streamlit_jupyter) (0.5.1)\n",
      "Requirement already satisfied: smmap<6,>=3.0.1 in /home/instantinopaul/.local/lib/python3.10/site-packages (from gitdb<5,>=4.0.1->gitpython!=3.1.19,<4,>=3.0.7->streamlit>=1.19->streamlit_jupyter) (5.0.0)\n",
      "Requirement already satisfied: parso<0.9.0,>=0.8.3 in /home/instantinopaul/.local/lib/python3.10/site-packages (from jedi>=0.16->ipython>=4.0.0->ipywidgets==7.7.2->streamlit_jupyter) (0.8.3)\n",
      "Requirement already satisfied: attrs>=22.2.0 in /home/instantinopaul/.local/lib/python3.10/site-packages (from jsonschema>=3.0->altair<6,>=4.0->streamlit>=1.19->streamlit_jupyter) (23.1.0)\n",
      "Requirement already satisfied: jsonschema-specifications>=2023.03.6 in /home/instantinopaul/.local/lib/python3.10/site-packages (from jsonschema>=3.0->altair<6,>=4.0->streamlit>=1.19->streamlit_jupyter) (2023.7.1)\n",
      "Requirement already satisfied: referencing>=0.28.4 in /home/instantinopaul/.local/lib/python3.10/site-packages (from jsonschema>=3.0->altair<6,>=4.0->streamlit>=1.19->streamlit_jupyter) (0.30.2)\n",
      "Requirement already satisfied: rpds-py>=0.7.1 in /home/instantinopaul/.local/lib/python3.10/site-packages (from jsonschema>=3.0->altair<6,>=4.0->streamlit>=1.19->streamlit_jupyter) (0.9.2)\n",
      "Requirement already satisfied: entrypoints in /home/instantinopaul/.local/lib/python3.10/site-packages (from jupyter-client>=6.1.12->ipykernel>=4.5.1->ipywidgets==7.7.2->streamlit_jupyter) (0.4)\n",
      "Requirement already satisfied: platformdirs>=2.5 in /home/instantinopaul/.local/lib/python3.10/site-packages (from jupyter-core!=5.0.*,>=4.12->ipykernel>=4.5.1->ipywidgets==7.7.2->streamlit_jupyter) (3.10.0)\n",
      "Requirement already satisfied: mdurl~=0.1 in /home/instantinopaul/.local/lib/python3.10/site-packages (from markdown-it-py<3.0.0,>=2.2.0->rich<14,>=10.14.0->streamlit>=1.19->streamlit_jupyter) (0.1.2)\n",
      "Requirement already satisfied: jupyter-server>=1.8 in /home/instantinopaul/.local/lib/python3.10/site-packages (from nbclassic>=0.4.7->notebook->jupyter->streamlit_jupyter) (2.7.2)\n",
      "Requirement already satisfied: notebook-shim>=0.2.3 in /home/instantinopaul/.local/lib/python3.10/site-packages (from nbclassic>=0.4.7->notebook->jupyter->streamlit_jupyter) (0.2.3)\n",
      "Requirement already satisfied: fastjsonschema in /home/instantinopaul/.local/lib/python3.10/site-packages (from nbformat->notebook->jupyter->streamlit_jupyter) (2.18.0)\n",
      "Requirement already satisfied: ptyprocess>=0.5 in /home/instantinopaul/.local/lib/python3.10/site-packages (from pexpect>4.3->ipython>=4.0.0->ipywidgets==7.7.2->streamlit_jupyter) (0.7.0)\n",
      "Requirement already satisfied: wcwidth in /home/instantinopaul/.local/lib/python3.10/site-packages (from prompt-toolkit!=3.0.37,<3.1.0,>=3.0.30->ipython>=4.0.0->ipywidgets==7.7.2->streamlit_jupyter) (0.2.6)\n",
      "Requirement already satisfied: argon2-cffi-bindings in /home/instantinopaul/.local/lib/python3.10/site-packages (from argon2-cffi->notebook->jupyter->streamlit_jupyter) (21.2.0)\n",
      "Requirement already satisfied: soupsieve>1.2 in /home/instantinopaul/.local/lib/python3.10/site-packages (from beautifulsoup4->nbconvert->jupyter->streamlit_jupyter) (2.4.1)\n",
      "Requirement already satisfied: executing>=1.2.0 in /home/instantinopaul/.local/lib/python3.10/site-packages (from stack-data->ipython>=4.0.0->ipywidgets==7.7.2->streamlit_jupyter) (1.2.0)\n",
      "Requirement already satisfied: asttokens>=2.1.0 in /home/instantinopaul/.local/lib/python3.10/site-packages (from stack-data->ipython>=4.0.0->ipywidgets==7.7.2->streamlit_jupyter) (2.2.1)\n",
      "Requirement already satisfied: pure-eval in /home/instantinopaul/.local/lib/python3.10/site-packages (from stack-data->ipython>=4.0.0->ipywidgets==7.7.2->streamlit_jupyter) (0.2.2)\n",
      "Requirement already satisfied: anyio>=3.1.0 in /home/instantinopaul/.local/lib/python3.10/site-packages (from jupyter-server>=1.8->nbclassic>=0.4.7->notebook->jupyter->streamlit_jupyter) (3.7.1)\n",
      "Requirement already satisfied: jupyter-events>=0.6.0 in /home/instantinopaul/.local/lib/python3.10/site-packages (from jupyter-server>=1.8->nbclassic>=0.4.7->notebook->jupyter->streamlit_jupyter) (0.7.0)\n",
      "Requirement already satisfied: jupyter-server-terminals in /home/instantinopaul/.local/lib/python3.10/site-packages (from jupyter-server>=1.8->nbclassic>=0.4.7->notebook->jupyter->streamlit_jupyter) (0.4.4)\n",
      "Requirement already satisfied: overrides in /home/instantinopaul/.local/lib/python3.10/site-packages (from jupyter-server>=1.8->nbclassic>=0.4.7->notebook->jupyter->streamlit_jupyter) (7.4.0)\n",
      "Requirement already satisfied: websocket-client in /home/instantinopaul/.local/lib/python3.10/site-packages (from jupyter-server>=1.8->nbclassic>=0.4.7->notebook->jupyter->streamlit_jupyter) (1.6.2)\n",
      "Requirement already satisfied: cffi>=1.0.1 in /home/instantinopaul/.local/lib/python3.10/site-packages (from argon2-cffi-bindings->argon2-cffi->notebook->jupyter->streamlit_jupyter) (1.15.1)\n",
      "Requirement already satisfied: sniffio>=1.1 in /home/instantinopaul/.local/lib/python3.10/site-packages (from anyio>=3.1.0->jupyter-server>=1.8->nbclassic>=0.4.7->notebook->jupyter->streamlit_jupyter) (1.3.0)\n",
      "Requirement already satisfied: exceptiongroup in /home/instantinopaul/.local/lib/python3.10/site-packages (from anyio>=3.1.0->jupyter-server>=1.8->nbclassic>=0.4.7->notebook->jupyter->streamlit_jupyter) (1.1.3)\n",
      "Requirement already satisfied: pycparser in /home/instantinopaul/.local/lib/python3.10/site-packages (from cffi>=1.0.1->argon2-cffi-bindings->argon2-cffi->notebook->jupyter->streamlit_jupyter) (2.21)\n",
      "Requirement already satisfied: python-json-logger>=2.0.4 in /home/instantinopaul/.local/lib/python3.10/site-packages (from jupyter-events>=0.6.0->jupyter-server>=1.8->nbclassic>=0.4.7->notebook->jupyter->streamlit_jupyter) (2.0.7)\n",
      "Requirement already satisfied: pyyaml>=5.3 in /home/instantinopaul/.local/lib/python3.10/site-packages (from jupyter-events>=0.6.0->jupyter-server>=1.8->nbclassic>=0.4.7->notebook->jupyter->streamlit_jupyter) (6.0.1)\n",
      "Requirement already satisfied: rfc3339-validator in /home/instantinopaul/.local/lib/python3.10/site-packages (from jupyter-events>=0.6.0->jupyter-server>=1.8->nbclassic>=0.4.7->notebook->jupyter->streamlit_jupyter) (0.1.4)\n",
      "Requirement already satisfied: rfc3986-validator>=0.1.1 in /home/instantinopaul/.local/lib/python3.10/site-packages (from jupyter-events>=0.6.0->jupyter-server>=1.8->nbclassic>=0.4.7->notebook->jupyter->streamlit_jupyter) (0.1.1)\n",
      "Requirement already satisfied: fqdn in /home/instantinopaul/.local/lib/python3.10/site-packages (from jsonschema>=3.0->altair<6,>=4.0->streamlit>=1.19->streamlit_jupyter) (1.5.1)\n",
      "Requirement already satisfied: isoduration in /home/instantinopaul/.local/lib/python3.10/site-packages (from jsonschema>=3.0->altair<6,>=4.0->streamlit>=1.19->streamlit_jupyter) (20.11.0)\n",
      "Requirement already satisfied: jsonpointer>1.13 in /home/instantinopaul/.local/lib/python3.10/site-packages (from jsonschema>=3.0->altair<6,>=4.0->streamlit>=1.19->streamlit_jupyter) (2.4)\n",
      "Requirement already satisfied: uri-template in /home/instantinopaul/.local/lib/python3.10/site-packages (from jsonschema>=3.0->altair<6,>=4.0->streamlit>=1.19->streamlit_jupyter) (1.3.0)\n",
      "Requirement already satisfied: webcolors>=1.11 in /home/instantinopaul/.local/lib/python3.10/site-packages (from jsonschema>=3.0->altair<6,>=4.0->streamlit>=1.19->streamlit_jupyter) (1.13)\n",
      "Requirement already satisfied: arrow>=0.15.0 in /home/instantinopaul/.local/lib/python3.10/site-packages (from isoduration->jsonschema>=3.0->altair<6,>=4.0->streamlit>=1.19->streamlit_jupyter) (1.2.3)\n",
      "Defaulting to user installation because normal site-packages is not writeable\n",
      "Requirement already satisfied: streamlit-echarts in /home/instantinopaul/.local/lib/python3.10/site-packages (0.4.0)\n",
      "Requirement already satisfied: streamlit>=0.63 in /home/instantinopaul/.local/lib/python3.10/site-packages (from streamlit-echarts) (1.25.0)\n",
      "Requirement already satisfied: simplejson>=3.0 in /home/instantinopaul/.local/lib/python3.10/site-packages (from streamlit-echarts) (3.19.1)\n",
      "Requirement already satisfied: pyecharts>=1.9 in /home/instantinopaul/.local/lib/python3.10/site-packages (from streamlit-echarts) (2.0.4)\n",
      "Requirement already satisfied: jinja2 in /home/instantinopaul/.local/lib/python3.10/site-packages (from pyecharts>=1.9->streamlit-echarts) (3.1.2)\n",
      "Requirement already satisfied: prettytable in /home/instantinopaul/.local/lib/python3.10/site-packages (from pyecharts>=1.9->streamlit-echarts) (3.8.0)\n",
      "Requirement already satisfied: altair<6,>=4.0 in /home/instantinopaul/.local/lib/python3.10/site-packages (from streamlit>=0.63->streamlit-echarts) (5.0.1)\n",
      "Requirement already satisfied: blinker<2,>=1.0.0 in /usr/lib/python3/dist-packages (from streamlit>=0.63->streamlit-echarts) (1.4)\n",
      "Requirement already satisfied: cachetools<6,>=4.0 in /home/instantinopaul/.local/lib/python3.10/site-packages (from streamlit>=0.63->streamlit-echarts) (5.3.1)\n",
      "Requirement already satisfied: click<9,>=7.0 in /usr/lib/python3/dist-packages (from streamlit>=0.63->streamlit-echarts) (8.0.3)\n",
      "Requirement already satisfied: importlib-metadata<7,>=1.4 in /home/instantinopaul/.local/lib/python3.10/site-packages (from streamlit>=0.63->streamlit-echarts) (6.8.0)\n",
      "Requirement already satisfied: numpy<2,>=1.19.3 in /usr/lib/python3/dist-packages (from streamlit>=0.63->streamlit-echarts) (1.21.5)\n",
      "Requirement already satisfied: packaging<24,>=16.8 in /home/instantinopaul/.local/lib/python3.10/site-packages (from streamlit>=0.63->streamlit-echarts) (23.1)\n",
      "Requirement already satisfied: pandas<3,>=1.3.0 in /home/instantinopaul/.local/lib/python3.10/site-packages (from streamlit>=0.63->streamlit-echarts) (2.0.1)\n",
      "Requirement already satisfied: pillow<10,>=7.1.0 in /usr/lib/python3/dist-packages (from streamlit>=0.63->streamlit-echarts) (9.0.1)\n",
      "Requirement already satisfied: protobuf<5,>=3.20 in /home/instantinopaul/.local/lib/python3.10/site-packages (from streamlit>=0.63->streamlit-echarts) (4.24.1)\n",
      "Requirement already satisfied: pyarrow>=6.0 in /home/instantinopaul/.local/lib/python3.10/site-packages (from streamlit>=0.63->streamlit-echarts) (13.0.0)\n",
      "Requirement already satisfied: pympler<2,>=0.9 in /home/instantinopaul/.local/lib/python3.10/site-packages (from streamlit>=0.63->streamlit-echarts) (1.0.1)\n",
      "Requirement already satisfied: python-dateutil<3,>=2.7.3 in /home/instantinopaul/.local/lib/python3.10/site-packages (from streamlit>=0.63->streamlit-echarts) (2.8.2)\n",
      "Requirement already satisfied: requests<3,>=2.18 in /home/instantinopaul/.local/lib/python3.10/site-packages (from streamlit>=0.63->streamlit-echarts) (2.31.0)\n",
      "Requirement already satisfied: rich<14,>=10.14.0 in /home/instantinopaul/.local/lib/python3.10/site-packages (from streamlit>=0.63->streamlit-echarts) (13.3.5)\n",
      "Requirement already satisfied: tenacity<9,>=8.1.0 in /home/instantinopaul/.local/lib/python3.10/site-packages (from streamlit>=0.63->streamlit-echarts) (8.2.3)\n",
      "Requirement already satisfied: toml<2,>=0.10.1 in /home/instantinopaul/.local/lib/python3.10/site-packages (from streamlit>=0.63->streamlit-echarts) (0.10.2)\n",
      "Requirement already satisfied: typing-extensions<5,>=4.1.0 in /home/instantinopaul/.local/lib/python3.10/site-packages (from streamlit>=0.63->streamlit-echarts) (4.5.0)\n",
      "Requirement already satisfied: tzlocal<5,>=1.1 in /home/instantinopaul/.local/lib/python3.10/site-packages (from streamlit>=0.63->streamlit-echarts) (4.3.1)\n",
      "Requirement already satisfied: validators<1,>=0.2 in /home/instantinopaul/.local/lib/python3.10/site-packages (from streamlit>=0.63->streamlit-echarts) (0.21.2)\n",
      "Requirement already satisfied: gitpython!=3.1.19,<4,>=3.0.7 in /home/instantinopaul/.local/lib/python3.10/site-packages (from streamlit>=0.63->streamlit-echarts) (3.1.31)\n",
      "Requirement already satisfied: pydeck<1,>=0.8 in /home/instantinopaul/.local/lib/python3.10/site-packages (from streamlit>=0.63->streamlit-echarts) (0.8.0)\n",
      "Requirement already satisfied: tornado<7,>=6.0.3 in /home/instantinopaul/.local/lib/python3.10/site-packages (from streamlit>=0.63->streamlit-echarts) (6.3.3)\n",
      "Requirement already satisfied: watchdog>=2.1.5 in /home/instantinopaul/.local/lib/python3.10/site-packages (from streamlit>=0.63->streamlit-echarts) (3.0.0)\n",
      "Requirement already satisfied: jsonschema>=3.0 in /home/instantinopaul/.local/lib/python3.10/site-packages (from altair<6,>=4.0->streamlit>=0.63->streamlit-echarts) (4.19.0)\n",
      "Requirement already satisfied: toolz in /home/instantinopaul/.local/lib/python3.10/site-packages (from altair<6,>=4.0->streamlit>=0.63->streamlit-echarts) (0.12.0)\n",
      "Requirement already satisfied: gitdb<5,>=4.0.1 in /home/instantinopaul/.local/lib/python3.10/site-packages (from gitpython!=3.1.19,<4,>=3.0.7->streamlit>=0.63->streamlit-echarts) (4.0.10)\n",
      "Requirement already satisfied: zipp>=0.5 in /usr/lib/python3/dist-packages (from importlib-metadata<7,>=1.4->streamlit>=0.63->streamlit-echarts) (1.0.0)\n",
      "Requirement already satisfied: pytz>=2020.1 in /usr/lib/python3/dist-packages (from pandas<3,>=1.3.0->streamlit>=0.63->streamlit-echarts) (2022.1)\n",
      "Requirement already satisfied: tzdata>=2022.1 in /home/instantinopaul/.local/lib/python3.10/site-packages (from pandas<3,>=1.3.0->streamlit>=0.63->streamlit-echarts) (2023.3)\n",
      "Requirement already satisfied: MarkupSafe>=2.0 in /home/instantinopaul/.local/lib/python3.10/site-packages (from jinja2->pyecharts>=1.9->streamlit-echarts) (2.1.3)\n",
      "Requirement already satisfied: six>=1.5 in /home/instantinopaul/.local/lib/python3.10/site-packages (from python-dateutil<3,>=2.7.3->streamlit>=0.63->streamlit-echarts) (1.16.0)\n",
      "Requirement already satisfied: charset-normalizer<4,>=2 in /home/instantinopaul/.local/lib/python3.10/site-packages (from requests<3,>=2.18->streamlit>=0.63->streamlit-echarts) (3.2.0)\n",
      "Requirement already satisfied: idna<4,>=2.5 in /home/instantinopaul/.local/lib/python3.10/site-packages (from requests<3,>=2.18->streamlit>=0.63->streamlit-echarts) (3.4)\n",
      "Requirement already satisfied: urllib3<3,>=1.21.1 in /home/instantinopaul/.local/lib/python3.10/site-packages (from requests<3,>=2.18->streamlit>=0.63->streamlit-echarts) (2.0.4)\n",
      "Requirement already satisfied: certifi>=2017.4.17 in /home/instantinopaul/.local/lib/python3.10/site-packages (from requests<3,>=2.18->streamlit>=0.63->streamlit-echarts) (2023.7.22)\n",
      "Requirement already satisfied: markdown-it-py<3.0.0,>=2.2.0 in /home/instantinopaul/.local/lib/python3.10/site-packages (from rich<14,>=10.14.0->streamlit>=0.63->streamlit-echarts) (2.2.0)\n",
      "Requirement already satisfied: pygments<3.0.0,>=2.13.0 in /home/instantinopaul/.local/lib/python3.10/site-packages (from rich<14,>=10.14.0->streamlit>=0.63->streamlit-echarts) (2.16.1)\n",
      "Requirement already satisfied: pytz-deprecation-shim in /home/instantinopaul/.local/lib/python3.10/site-packages (from tzlocal<5,>=1.1->streamlit>=0.63->streamlit-echarts) (0.1.0.post0)\n",
      "Requirement already satisfied: wcwidth in /home/instantinopaul/.local/lib/python3.10/site-packages (from prettytable->pyecharts>=1.9->streamlit-echarts) (0.2.6)\n",
      "Requirement already satisfied: smmap<6,>=3.0.1 in /home/instantinopaul/.local/lib/python3.10/site-packages (from gitdb<5,>=4.0.1->gitpython!=3.1.19,<4,>=3.0.7->streamlit>=0.63->streamlit-echarts) (5.0.0)\n",
      "Requirement already satisfied: attrs>=22.2.0 in /home/instantinopaul/.local/lib/python3.10/site-packages (from jsonschema>=3.0->altair<6,>=4.0->streamlit>=0.63->streamlit-echarts) (23.1.0)\n",
      "Requirement already satisfied: jsonschema-specifications>=2023.03.6 in /home/instantinopaul/.local/lib/python3.10/site-packages (from jsonschema>=3.0->altair<6,>=4.0->streamlit>=0.63->streamlit-echarts) (2023.7.1)\n",
      "Requirement already satisfied: referencing>=0.28.4 in /home/instantinopaul/.local/lib/python3.10/site-packages (from jsonschema>=3.0->altair<6,>=4.0->streamlit>=0.63->streamlit-echarts) (0.30.2)\n",
      "Requirement already satisfied: rpds-py>=0.7.1 in /home/instantinopaul/.local/lib/python3.10/site-packages (from jsonschema>=3.0->altair<6,>=4.0->streamlit>=0.63->streamlit-echarts) (0.9.2)\n",
      "Requirement already satisfied: mdurl~=0.1 in /home/instantinopaul/.local/lib/python3.10/site-packages (from markdown-it-py<3.0.0,>=2.2.0->rich<14,>=10.14.0->streamlit>=0.63->streamlit-echarts) (0.1.2)\n",
      "Defaulting to user installation because normal site-packages is not writeable\n",
      "Requirement already satisfied: openpyxl in /home/instantinopaul/.local/lib/python3.10/site-packages (3.1.2)\n",
      "Requirement already satisfied: et-xmlfile in /home/instantinopaul/.local/lib/python3.10/site-packages (from openpyxl) (1.1.0)\n"
     ]
    }
   ],
   "source": [
    "! pip install pandas numpy\n",
    "! pip install -U scikit-learn\n",
    "! pip install imblearn\n",
    "! pip install kaggle\n",
    "! pip install streamlit\n",
    "! pip install tqdm\n",
    "! pip install streamlit_jupyter\n",
    "! pip install streamlit-echarts\n",
    "! pip install openpyxl"
   ]
  },
  {
   "cell_type": "code",
   "execution_count": 2,
   "id": "14bb1cd3",
   "metadata": {
    "tags": []
   },
   "outputs": [],
   "source": [
    "import pandas as pd\n",
    "import json, glob\n",
    "import numpy as np"
   ]
  },
  {
   "cell_type": "markdown",
   "id": "14c25998",
   "metadata": {},
   "source": [
    "## Instaloader api"
   ]
  },
  {
   "cell_type": "code",
   "execution_count": 3,
   "id": "4e5b4e77",
   "metadata": {
    "tags": []
   },
   "outputs": [],
   "source": [
    "from instaloader import Instaloader, Profile, ProfileNotExistsException, LoginRequiredException\n",
    "L=Instaloader()\n",
    "import time\n",
    "from functools import lru_cache \n",
    "  \n",
    "ERROR=''\n",
    "@lru_cache(maxsize = 100) \n",
    "def get_info(username, timeout=0):\n",
    "    global ERROR\n",
    "    try:\n",
    "        time.sleep(timeout)\n",
    "        print(\"Scraping ...\")\n",
    "        profile = Profile.from_username(L.context, username=username)\n",
    "        info = profile._asdict()\n",
    "        return info\n",
    "    except ProfileNotExistsException as e:\n",
    "        print(e)\n",
    "        ERROR=\"Profile doesn't exist\"\n",
    "    except LoginRequiredException as e:\n",
    "        print(e)\n",
    "        ERROR=\"Need to login to use instaloader, timeout from instaloader\"   "
   ]
  },
  {
   "cell_type": "markdown",
   "id": "9c5136c0-f053-42da-aad4-18a3f5dcb722",
   "metadata": {
    "tags": []
   },
   "source": [
    "### Feature enggineering"
   ]
  },
  {
   "cell_type": "code",
   "execution_count": 4,
   "id": "9db0428a",
   "metadata": {
    "scrolled": true
   },
   "outputs": [],
   "source": [
    "features =[\n",
    "#     'full_name',\n",
    "#     'username',\n",
    "#      'id',\n",
    "    \n",
    "    'biography', #len\n",
    "#  'blocked_by_viewer',\n",
    "#  'restricted_by_viewer',\n",
    " # 'country_block',\n",
    "#  'external_url',\n",
    "#  'external_url_linkshimmed',\n",
    " 'edge_followed_by', #count inside\n",
    " 'fbid', #is none\n",
    "#  'followed_by_viewer',\n",
    " 'edge_follow',  #count inside\n",
    "#  'follows_viewer',\n",
    " \n",
    " 'has_ar_effects',\n",
    " 'has_clips',\n",
    " 'has_guides',\n",
    " 'has_channel',\n",
    "    \n",
    " # 'has_blocked_viewer',\n",
    " 'highlight_reel_count',\n",
    " # 'has_requested_viewer',\n",
    " 'is_business_account',\n",
    " # 'is_joined_recently',\n",
    "#  'business_category_name',\n",
    "#  'overall_category_name',\n",
    "#  'category_enum',\n",
    "#  'category_name',\n",
    " 'is_private',\n",
    " 'is_verified',\n",
    "#  'edge_mutual_followed_by',\n",
    " 'profile_pic_url', #if none\n",
    "#  'profile_pic_url_hd',\n",
    "#  'requested_by_viewer',\n",
    "#  'should_show_category',\n",
    " # 'connected_fb_page', #if None or not\n",
    "#  'edge_felix_video_timeline',\n",
    "#  'edge_owner_to_timeline_media',\n",
    "#  'edge_saved_media',\n",
    "#  'edge_media_collections'\n",
    "]\n",
    "\n",
    "def process_entries(ent):\n",
    "    ent=ent.copy()\n",
    "    ent['biography']=len(ent['biography'])\n",
    "    ent['fbid']=bool(ent['fbid'])\n",
    "    ent['profile_pic_url']=bool(ent['profile_pic_url'])\n",
    "    \n",
    "    ent['edge_followed_by']=ent['edge_followed_by']['count']\n",
    "    ent['edge_follow']=ent['edge_follow']['count']\n",
    "    \n",
    "#     ent.pop('full_name'), ent.pop('id'), ent.pop('username')\n",
    "    return ent\n"
   ]
  },
  {
   "cell_type": "markdown",
   "id": "de5aa11f",
   "metadata": {},
   "source": [
    "## Collect spam users data\n",
    "https://www.kaggle.com/datasets/rezaunderfit/instagram-fake-accounts-dataset"
   ]
  },
  {
   "cell_type": "code",
   "execution_count": 5,
   "id": "bb82dac7-05c0-4e6e-934b-4be55a770737",
   "metadata": {
    "scrolled": true,
    "tags": []
   },
   "outputs": [
    {
     "name": "stdout",
     "output_type": "stream",
     "text": [
      "Downloading instagram-fake-accounts-dataset.zip to dataset/fake\n",
      "100%|██████████████████████████████████████| 3.72M/3.72M [00:01<00:00, 2.91MB/s]\n",
      "100%|██████████████████████████████████████| 3.72M/3.72M [00:01<00:00, 2.11MB/s]\n"
     ]
    }
   ],
   "source": [
    "! mkdir -p dataset/fake/\n",
    "! kaggle datasets download -d  rezaunderfit/instagram-fake-accounts-dataset --force --unzip -p dataset/fake/\n",
    "\n",
    "fakedata=[json.load(open(f))['graphql']['user'] for f in glob.glob('dataset/fake/db/*.json')]"
   ]
  },
  {
   "cell_type": "markdown",
   "id": "378c3983-43f1-46e8-8be5-b914c09154f7",
   "metadata": {},
   "source": [
    "### Collect real users and scrape them\n",
    "https://raw.githubusercontent.com/harshitkgupta/Fake-Profile-Detection-using-ML/master/data/users.csv"
   ]
  },
  {
   "cell_type": "code",
   "execution_count": 6,
   "id": "0c8af1b5-7839-4e7b-ab7c-0bb74db58e70",
   "metadata": {
    "tags": []
   },
   "outputs": [
    {
     "name": "stdout",
     "output_type": "stream",
     "text": [
      "File ‘dataset/real/users.csv’ already there; not retrieving.\n",
      "\n"
     ]
    }
   ],
   "source": [
    "! mkdir -p dataset/real/ \n",
    "! wget -nc https://raw.githubusercontent.com/harshitkgupta/Fake-Profile-Detection-using-ML/master/data/users.csv -P dataset/real/  "
   ]
  },
  {
   "cell_type": "code",
   "execution_count": null,
   "id": "314574c9-0db5-426c-8db1-99e4006b61ec",
   "metadata": {
    "tags": []
   },
   "outputs": [],
   "source": [
    "import os\n",
    "from tqdm import tqdm\n",
    "\n",
    "# realusertxt='dataset/real/real.txt'\n",
    "realjson='dataset/real/real.json'\n",
    "realcsv='dataset/real/users.csv'\n",
    "\n",
    "if os.path.isfile(realjson):\n",
    "    realdata = json.load(open(realjson))\n",
    "else:\n",
    "    realdata = []\n",
    "    print('One time setup to be done, this may take a while...')\n",
    "    \n",
    "savedusers = [row['username'] for row in realdata]\n",
    "    \n",
    "# for realuser in tqdm(open(realusertxt).readlines()):\n",
    "MAXSCRAPE=0\n",
    "realdf = pd.read_csv(realcsv)\n",
    "i=0\n",
    "for realuser in tqdm(realdf[\"screen_name\"].sample(frac=1).reset_index(drop=True)):\n",
    "    print(realuser)\n",
    "    if realuser not in savedusers:\n",
    "        ret=get_info(realuser)\n",
    "        if ret:\n",
    "            realdata.append(ret)\n",
    "            json.dump(realdata, open(realjson, 'w+'))\n",
    "            print(f'[{i}]: Scraped and saved')\n",
    "            i+=1\n",
    "            if i >= MAXSCRAPE:\n",
    "                break\n",
    "        else:\n",
    "            realdf=realdf[realdf[\"screen_name\"] != realuser]\n",
    "            realdf.to_csv(realcsv, index=False)\n",
    "        \n",
    "# json.dump(realdata, open(realjson, 'w+'))"
   ]
  },
  {
   "cell_type": "code",
   "execution_count": null,
   "id": "48b63f55",
   "metadata": {},
   "outputs": [],
   "source": [
    "\n"
   ]
  },
  {
   "cell_type": "code",
   "execution_count": 8,
   "id": "bf10ad01",
   "metadata": {},
   "outputs": [
    {
     "data": {
      "text/html": [
       "<div>\n",
       "<style scoped>\n",
       "    .dataframe tbody tr th:only-of-type {\n",
       "        vertical-align: middle;\n",
       "    }\n",
       "\n",
       "    .dataframe tbody tr th {\n",
       "        vertical-align: top;\n",
       "    }\n",
       "\n",
       "    .dataframe thead th {\n",
       "        text-align: right;\n",
       "    }\n",
       "</style>\n",
       "<table border=\"1\" class=\"dataframe\">\n",
       "  <thead>\n",
       "    <tr style=\"text-align: right;\">\n",
       "      <th></th>\n",
       "      <th>biography</th>\n",
       "      <th>edge_followed_by</th>\n",
       "      <th>fbid</th>\n",
       "      <th>edge_follow</th>\n",
       "      <th>has_ar_effects</th>\n",
       "      <th>has_clips</th>\n",
       "      <th>has_guides</th>\n",
       "      <th>has_channel</th>\n",
       "      <th>highlight_reel_count</th>\n",
       "      <th>is_business_account</th>\n",
       "      <th>is_private</th>\n",
       "      <th>is_verified</th>\n",
       "      <th>profile_pic_url</th>\n",
       "      <th>fake</th>\n",
       "    </tr>\n",
       "  </thead>\n",
       "  <tbody>\n",
       "    <tr>\n",
       "      <th>0</th>\n",
       "      <td>0</td>\n",
       "      <td>59</td>\n",
       "      <td>True</td>\n",
       "      <td>2126</td>\n",
       "      <td>False</td>\n",
       "      <td>False</td>\n",
       "      <td>False</td>\n",
       "      <td>False</td>\n",
       "      <td>0</td>\n",
       "      <td>False</td>\n",
       "      <td>False</td>\n",
       "      <td>False</td>\n",
       "      <td>True</td>\n",
       "      <td>1</td>\n",
       "    </tr>\n",
       "    <tr>\n",
       "      <th>1</th>\n",
       "      <td>24</td>\n",
       "      <td>95</td>\n",
       "      <td>True</td>\n",
       "      <td>3042</td>\n",
       "      <td>False</td>\n",
       "      <td>False</td>\n",
       "      <td>False</td>\n",
       "      <td>False</td>\n",
       "      <td>0</td>\n",
       "      <td>False</td>\n",
       "      <td>True</td>\n",
       "      <td>False</td>\n",
       "      <td>True</td>\n",
       "      <td>1</td>\n",
       "    </tr>\n",
       "    <tr>\n",
       "      <th>2</th>\n",
       "      <td>0</td>\n",
       "      <td>1211</td>\n",
       "      <td>True</td>\n",
       "      <td>1769</td>\n",
       "      <td>False</td>\n",
       "      <td>False</td>\n",
       "      <td>False</td>\n",
       "      <td>False</td>\n",
       "      <td>0</td>\n",
       "      <td>False</td>\n",
       "      <td>True</td>\n",
       "      <td>False</td>\n",
       "      <td>True</td>\n",
       "      <td>1</td>\n",
       "    </tr>\n",
       "    <tr>\n",
       "      <th>3</th>\n",
       "      <td>149</td>\n",
       "      <td>262</td>\n",
       "      <td>True</td>\n",
       "      <td>1113</td>\n",
       "      <td>False</td>\n",
       "      <td>False</td>\n",
       "      <td>False</td>\n",
       "      <td>False</td>\n",
       "      <td>0</td>\n",
       "      <td>False</td>\n",
       "      <td>False</td>\n",
       "      <td>False</td>\n",
       "      <td>True</td>\n",
       "      <td>1</td>\n",
       "    </tr>\n",
       "    <tr>\n",
       "      <th>4</th>\n",
       "      <td>0</td>\n",
       "      <td>99</td>\n",
       "      <td>True</td>\n",
       "      <td>5277</td>\n",
       "      <td>False</td>\n",
       "      <td>False</td>\n",
       "      <td>False</td>\n",
       "      <td>False</td>\n",
       "      <td>0</td>\n",
       "      <td>False</td>\n",
       "      <td>False</td>\n",
       "      <td>False</td>\n",
       "      <td>True</td>\n",
       "      <td>1</td>\n",
       "    </tr>\n",
       "  </tbody>\n",
       "</table>\n",
       "</div>"
      ],
      "text/plain": [
       "   biography  edge_followed_by  fbid  edge_follow  has_ar_effects  has_clips  \\\n",
       "0          0                59  True         2126           False      False   \n",
       "1         24                95  True         3042           False      False   \n",
       "2          0              1211  True         1769           False      False   \n",
       "3        149               262  True         1113           False      False   \n",
       "4          0                99  True         5277           False      False   \n",
       "\n",
       "   has_guides  has_channel  highlight_reel_count  is_business_account  \\\n",
       "0       False        False                     0                False   \n",
       "1       False        False                     0                False   \n",
       "2       False        False                     0                False   \n",
       "3       False        False                     0                False   \n",
       "4       False        False                     0                False   \n",
       "\n",
       "   is_private  is_verified  profile_pic_url  fake  \n",
       "0       False        False             True     1  \n",
       "1        True        False             True     1  \n",
       "2        True        False             True     1  \n",
       "3       False        False             True     1  \n",
       "4       False        False             True     1  "
      ]
     },
     "execution_count": 8,
     "metadata": {},
     "output_type": "execute_result"
    }
   ],
   "source": [
    "fakedf = pd.DataFrame(map(process_entries, fakedata), columns=features)\n",
    "fakedf['fake']=1\n",
    "realdf = pd.DataFrame(map(process_entries, realdata), columns=features)\n",
    "realdf['fake']=0\n",
    "df = pd.concat([fakedf, realdf])\n",
    "df=df.sample(frac=1).reset_index(drop=True)\n",
    "df.head()"
   ]
  },
  {
   "cell_type": "code",
   "execution_count": null,
   "id": "03bb8762",
   "metadata": {},
   "outputs": [],
   "source": []
  },
  {
   "cell_type": "code",
   "execution_count": null,
   "id": "18cde92c-b30b-41bd-ad49-b8571ef202af",
   "metadata": {},
   "outputs": [],
   "source": []
  },
  {
   "cell_type": "code",
   "execution_count": null,
   "id": "befa8db9-6e11-49c2-a9d1-cf97ee2c8f0d",
   "metadata": {},
   "outputs": [],
   "source": []
  },
  {
   "cell_type": "code",
   "execution_count": null,
   "id": "da2694ac-b1b5-4a48-a179-b3332c39d5e6",
   "metadata": {},
   "outputs": [],
   "source": []
  },
  {
   "cell_type": "markdown",
   "id": "2945f8e6",
   "metadata": {},
   "source": [
    "## Oversampling imbalanced data"
   ]
  },
  {
   "cell_type": "code",
   "execution_count": 9,
   "id": "09d70782",
   "metadata": {},
   "outputs": [],
   "source": [
    "from imblearn.over_sampling import SMOTE\n",
    "X, y = SMOTE().fit_resample(df.drop(columns=['fake']), df['fake'])"
   ]
  },
  {
   "cell_type": "code",
   "execution_count": null,
   "id": "47682008",
   "metadata": {},
   "outputs": [],
   "source": []
  },
  {
   "cell_type": "code",
   "execution_count": null,
   "id": "7431ae49",
   "metadata": {},
   "outputs": [],
   "source": []
  },
  {
   "cell_type": "markdown",
   "id": "29d93eea",
   "metadata": {},
   "source": [
    "## Model"
   ]
  },
  {
   "cell_type": "code",
   "execution_count": 10,
   "id": "cadcb618",
   "metadata": {},
   "outputs": [
    {
     "data": {
      "text/plain": [
       "{'fit_time': array([0.18657541, 0.18432188, 0.18492699, 0.1844666 , 0.1832993 ]),\n",
       " 'score_time': array([0.02390385, 0.01680923, 0.01732278, 0.01671243, 0.01687765]),\n",
       " 'test_acc': array([0.96402878, 0.97111913, 0.97111913, 0.97472924, 0.9566787 ]),\n",
       " 'test_prec_macro': array([0.96441336, 0.97119395, 0.97119395, 0.97476538, 0.95675182]),\n",
       " 'test_rec_micro': array([0.96402878, 0.97114482, 0.97114482, 0.97471588, 0.9567042 ])}"
      ]
     },
     "execution_count": 10,
     "metadata": {},
     "output_type": "execute_result"
    }
   ],
   "source": [
    "from sklearn.ensemble import RandomForestClassifier\n",
    "from sklearn.model_selection import cross_validate, cross_val_score\n",
    "scoring = {'acc': 'accuracy',\n",
    "           'prec_macro': 'precision_macro',\n",
    "           'rec_micro': 'recall_macro'}\n",
    "\n",
    "cross_validate(RandomForestClassifier(), X, y, cv=5, scoring=scoring)"
   ]
  },
  {
   "cell_type": "code",
   "execution_count": null,
   "id": "bd023018",
   "metadata": {},
   "outputs": [],
   "source": []
  },
  {
   "cell_type": "code",
   "execution_count": null,
   "id": "6ae38149",
   "metadata": {},
   "outputs": [],
   "source": []
  },
  {
   "cell_type": "code",
   "execution_count": 11,
   "id": "4b1621bd",
   "metadata": {},
   "outputs": [],
   "source": [
    "import pickle\n",
    "\n",
    "model=RandomForestClassifier()\n",
    "model.fit(X, y)\n",
    "pickle.dump(model, open('model', 'wb+'))"
   ]
  },
  {
   "cell_type": "markdown",
   "id": "6e6df974",
   "metadata": {},
   "source": [
    "## Test on realdata"
   ]
  },
  {
   "cell_type": "code",
   "execution_count": 12,
   "id": "052eb7c4",
   "metadata": {},
   "outputs": [
    {
     "data": {
      "text/plain": [
       "(0.02, 0.99)"
      ]
     },
     "execution_count": 12,
     "metadata": {},
     "output_type": "execute_result"
    }
   ],
   "source": [
    "def predict(username):\n",
    "    np.random.seed(1111)\n",
    "    info = get_info(username)\n",
    "    if info is None:\n",
    "        return 404\n",
    "    return model.predict_proba(pd.DataFrame([process_entries(info)], columns=features))[0][1]"
   ]
  },
  {
   "cell_type": "code",
   "execution_count": 13,
   "id": "aa4cde07",
   "metadata": {},
   "outputs": [
    {
     "data": {
      "text/plain": [
       "{'edge_follow': 0.5155748611234072,\n",
       " 'edge_followed_by': 0.2927940825277123,\n",
       " 'has_clips': 0.08159158196520172,\n",
       " 'biography': 0.06247100428521233,\n",
       " 'highlight_reel_count': 0.03613317006028254,\n",
       " 'is_business_account': 0.006703495075614869,\n",
       " 'is_private': 0.004731804962569093,\n",
       " 'fbid': 0.0,\n",
       " 'has_ar_effects': 0.0,\n",
       " 'has_guides': 0.0,\n",
       " 'has_channel': 0.0,\n",
       " 'is_verified': 0.0,\n",
       " 'profile_pic_url': 0.0}"
      ]
     },
     "execution_count": 13,
     "metadata": {},
     "output_type": "execute_result"
    }
   ],
   "source": [
    "A=dict(zip(*(model.feature_names_in_, model.feature_importances_)))\n",
    "{k:A[k] for k in sorted(A, key=A.get, reverse=True)}"
   ]
  },
  {
   "cell_type": "markdown",
   "id": "3a431b9f-45d8-4a06-b196-7fca88c75365",
   "metadata": {},
   "source": [
    "### Run the webapp"
   ]
  },
  {
   "cell_type": "code",
   "execution_count": 16,
   "id": "93b3cbfe-796d-439d-b96c-e2ff40bae727",
   "metadata": {},
   "outputs": [
    {
     "name": "stdout",
     "output_type": "stream",
     "text": [
      "\u001b[0m\n",
      "\u001b[34m\u001b[1m  You can now view your Streamlit app in your browser.\u001b[0m\n",
      "\u001b[0m\n",
      "\u001b[34m  Local URL: \u001b[0m\u001b[1mhttp://localhost:8501\u001b[0m\n",
      "\u001b[34m  Network URL: \u001b[0m\u001b[1mhttp://192.168.0.115:8501\u001b[0m\n",
      "\u001b[0m\n",
      "Scraping ...\n",
      "Scraping ...\n",
      "Scraping ...\n",
      "Scraping ...\n",
      "Scraping ...\n",
      "Scraping ...\n",
      "^C\n",
      "\u001b[34m  Stopping...\u001b[0m\n"
     ]
    }
   ],
   "source": [
    "! source env/bin/activate && streamlit run infer.py"
   ]
  },
  {
   "cell_type": "code",
   "execution_count": null,
   "id": "a3059de0-c36f-42f9-b805-abea306f4ac9",
   "metadata": {},
   "outputs": [],
   "source": []
  }
 ],
 "metadata": {
  "kernelspec": {
   "display_name": "fakesocial",
   "language": "python",
   "name": "fakesocial"
  },
  "language_info": {
   "codemirror_mode": {
    "name": "ipython",
    "version": 3
   },
   "file_extension": ".py",
   "mimetype": "text/x-python",
   "name": "python",
   "nbconvert_exporter": "python",
   "pygments_lexer": "ipython3",
   "version": "3.10.12"
  }
 },
 "nbformat": 4,
 "nbformat_minor": 5
}
